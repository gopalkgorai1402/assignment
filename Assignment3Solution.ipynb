{
 "cells": [
  {
   "cell_type": "markdown",
   "id": "980a870c-6d6c-46da-b413-c76cfe39fbe4",
   "metadata": {},
   "source": [
    "#Assignment Solution dated 02/02/23"
   ]
  },
  {
   "cell_type": "code",
   "execution_count": 3,
   "id": "eb184614-e4e1-4291-b98d-b284635346cd",
   "metadata": {
    "collapsed": true,
    "jupyter": {
     "outputs_hidden": true
    },
    "tags": []
   },
   "outputs": [
    {
     "name": "stdout",
     "output_type": "stream",
     "text": [
      "55\n",
      "5050\n"
     ]
    }
   ],
   "source": [
    "# Q.\n",
    "\n",
    "#1. sol :\n",
    "\n",
    "### when to use a for loop  ###\n",
    "\n",
    "\"\"\"A for loop runs for a pre-determined number of times. So, it can iterate through an array from start to finish, say, but it will only ever loop \n",
    "  for that specific number.\n",
    "  A while loop will carry on until a pre-determined scenario takes place. That may happen immediately, or it may require a hundred iterations. So, \n",
    "  the number of loops is governed by an outcome, not a number. \"\"\"\n",
    "\n",
    "# example :\n",
    "\n",
    "# sum of first 10 natural numbers using for loop\n",
    "l = list(range(1,11))\n",
    "sum = 0\n",
    "for i in l :\n",
    "    sum = sum + i\n",
    "print(sum)\n",
    "    \n",
    "# sum of first 100 natural numbers using while loop \n",
    "\n",
    "sum = 0 \n",
    "i = 1\n",
    "while i <= 100 :\n",
    "    sum = sum + i\n",
    "    i = i + 1\n",
    "print(sum)    "
   ]
  },
  {
   "cell_type": "code",
   "execution_count": 17,
   "id": "c51163ee-c34d-46fe-9ed6-b63bc2c6dc02",
   "metadata": {
    "collapsed": true,
    "jupyter": {
     "outputs_hidden": true
    },
    "tags": []
   },
   "outputs": [
    {
     "name": "stdout",
     "output_type": "stream",
     "text": [
      "55\n",
      "3628800\n",
      "55\n",
      "3628800\n"
     ]
    }
   ],
   "source": [
    "# 2. sol:\n",
    "\n",
    "# printing sum and product of first 10 natural numbers using for loop:\n",
    "\n",
    "# sum:\n",
    "l = list(range(1,11))\n",
    "sum = 0\n",
    "for i in l :\n",
    "    sum = sum + i\n",
    "print(sum)\n",
    "\n",
    "# product :\n",
    "\n",
    "l = list(range(1,11))\n",
    "product = 1\n",
    "for i in l :\n",
    "    product = product*i\n",
    "print(product)    \n",
    "\n",
    "# printing sum and product of first 10 natural numbers using while loop:\n",
    "\n",
    "# sum :\n",
    "\n",
    "i = 1\n",
    "sum = 0\n",
    "while i <=10 :\n",
    "    sum = sum + i\n",
    "    i = i +1\n",
    "print(sum)  \n",
    "\n",
    "# product :\n",
    "\n",
    "i = 1\n",
    "product = 1\n",
    "while i <= 10 :\n",
    "    product = product * i\n",
    "    i = i + 1\n",
    "print(product)    "
   ]
  },
  {
   "cell_type": "code",
   "execution_count": 38,
   "id": "3809aa8a-2a11-4e93-bd5e-6130671155e8",
   "metadata": {
    "collapsed": true,
    "jupyter": {
     "outputs_hidden": true
    },
    "tags": []
   },
   "outputs": [
    {
     "name": "stdin",
     "output_type": "stream",
     "text": [
      "Enter the units of electricity consumed this month: 310\n"
     ]
    },
    {
     "name": "stdout",
     "output_type": "stream",
     "text": [
      "your monthly bill is: 2250.0\n"
     ]
    }
   ],
   "source": [
    "# 3.sol:\n",
    "\n",
    "n = int(input(\"Enter the units of electricity consumed this month:\"))\n",
    "if n >= 0 and n <= 100 :\n",
    "    bill =  n * 4.5\n",
    "    print(\"your monthly bill is :\", bill)\n",
    "elif n > 100 and n <= 200 :\n",
    "    n1 = n - 100\n",
    "    bill = 100*4.5 + n1*6 \n",
    "    print(\"Your monthly bill is :\", bill)\n",
    "elif n > 200 and n <=300 :\n",
    "    n2 = n - 200\n",
    "    bill = 100*4.5 + 100*6 + n2* 10\n",
    "    print(\"Your monthly bill is:\", bill)\n",
    "else:\n",
    "    n3 = n - 300\n",
    "    bill = 100*4.5 + 100*6 + 100*10 + n3 * 20\n",
    "    print(\"your monthly bill is:\", bill)\n",
    "    "
   ]
  },
  {
   "cell_type": "code",
   "execution_count": null,
   "id": "2e1bacd4-eb05-433e-a66a-49bd694496c4",
   "metadata": {
    "tags": []
   },
   "outputs": [],
   "source": [
    "# 4.sol:\n",
    "\n",
    "# using for loop :\n",
    "\n",
    "l = list(range(1,101))\n",
    "l1 = []\n",
    "for i in l :\n",
    "    if pow(i,3) % 4 == 0 or pow(i,3) % 5 == 0 :\n",
    "        l1.append(i)\n",
    "print(\"The required list is :\",l1) \n",
    "\n",
    "# using while loop :\n",
    "\n",
    "i = 1\n",
    "l1 = []\n",
    "while i <=100 :\n",
    "    if pow(i,3) % 4 == 0 or pow(i,3) % 5 == 0 :\n",
    "        l1.append(i)\n",
    "        i = i + 1\n",
    "print(\"The required list is :\",l1)     "
   ]
  },
  {
   "cell_type": "code",
   "execution_count": 8,
   "id": "fecdb600-d3e9-456f-bea0-f9b87874b777",
   "metadata": {},
   "outputs": [
    {
     "name": "stdout",
     "output_type": "stream",
     "text": [
      "vowels present: ['i', 'a', 'o', 'e', 'o', 'e', 'a', 'a', 'a', 'i', 'e', 'i']\n",
      "Number of vowels present in the given string : 12\n"
     ]
    }
   ],
   "source": [
    "# 5.sol:\n",
    "s = \"I want to become a data scientist\"\n",
    "vowels = [\"a\", \"e\", \"i\", \"o\", \"u\"]\n",
    "l = []\n",
    "count = 0\n",
    "for i in s.lower() :\n",
    "    if i in vowels :\n",
    "        l.append(i)\n",
    "        count += 1\n",
    "print(\"vowels present:\",l)        \n",
    "print(\"Number of vowels present in the given string :\",count)    \n",
    "    "
   ]
  }
 ],
 "metadata": {
  "kernelspec": {
   "display_name": "Python 3 (ipykernel)",
   "language": "python",
   "name": "python3"
  },
  "language_info": {
   "codemirror_mode": {
    "name": "ipython",
    "version": 3
   },
   "file_extension": ".py",
   "mimetype": "text/x-python",
   "name": "python",
   "nbconvert_exporter": "python",
   "pygments_lexer": "ipython3",
   "version": "3.10.6"
  }
 },
 "nbformat": 4,
 "nbformat_minor": 5
}
