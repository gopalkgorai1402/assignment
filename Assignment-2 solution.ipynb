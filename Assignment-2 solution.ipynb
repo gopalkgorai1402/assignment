{
 "cells": [
  {
   "cell_type": "markdown",
   "id": "bd0f6184-8148-4dbb-9449-5506cc87947e",
   "metadata": {},
   "source": [
    "#### Solution of Assignment-2 dated : 30/01/2023 ####"
   ]
  },
  {
   "cell_type": "code",
   "execution_count": 15,
   "id": "4dbff9d8-4022-4be3-9652-2984d1c08917",
   "metadata": {
    "collapsed": true,
    "jupyter": {
     "outputs_hidden": true
    },
    "tags": []
   },
   "outputs": [
    {
     "name": "stdin",
     "output_type": "stream",
     "text": [
      "enter your percentage 78\n"
     ]
    },
    {
     "name": "stdout",
     "output_type": "stream",
     "text": [
      " You got grade 'C'\n"
     ]
    }
   ],
   "source": [
    "# Solution of Q.1 :-\n",
    "\n",
    "n = int(input(\"enter your percentage\"))\n",
    "if n > 90 :\n",
    "    print(\" You got grade 'A' \")\n",
    "elif n > 80 and n <90 :\n",
    "    print(\" You got grade 'B' \")\n",
    "elif n >= 60 and n <= 80 :\n",
    "    print(\" You got grade 'C'\")\n",
    "else :\n",
    "    print(\"You got grade 'D\")"
   ]
  },
  {
   "cell_type": "code",
   "execution_count": 14,
   "id": "197566a5-d98b-4a9b-b1f8-3b989c65fa55",
   "metadata": {
    "collapsed": true,
    "jupyter": {
     "outputs_hidden": true
    },
    "tags": []
   },
   "outputs": [
    {
     "name": "stdin",
     "output_type": "stream",
     "text": [
      "Enter the Cost Price of your bike: 7800000\n"
     ]
    },
    {
     "name": "stdout",
     "output_type": "stream",
     "text": [
      "The Road Tax is 1170000.0\n"
     ]
    }
   ],
   "source": [
    "# Solution of Q.2 :-\n",
    "\n",
    "n = float(input(\"Enter the Cost Price of your bike:\"))\n",
    "if n > 100000:\n",
    "    a = (15/100) * n \n",
    "    print(\"The Road Tax is\", a)\n",
    "elif n > 50000 and n <= 100000 :\n",
    "    a = (10/100) * n\n",
    "    print(\"The Road Tax is\", a)\n",
    "else :\n",
    "    a = (5/100) * n\n",
    "    print(\"The Road Tax is\", a)\n",
    "    "
   ]
  },
  {
   "cell_type": "code",
   "execution_count": 23,
   "id": "d6753754-52c3-495c-8f5c-dc0168ecf479",
   "metadata": {
    "collapsed": true,
    "jupyter": {
     "outputs_hidden": true
    },
    "tags": []
   },
   "outputs": [
    {
     "name": "stdin",
     "output_type": "stream",
     "text": [
      "Enter the city: Jaipur\n"
     ]
    },
    {
     "name": "stdout",
     "output_type": "stream",
     "text": [
      "Jal Mahal\n"
     ]
    }
   ],
   "source": [
    "# Solution of Q.3 :-\n",
    "\n",
    "s = str(input(\"Enter the city:\"))\n",
    "l = [\"Delhi\",\"Agra\",\"Jaipur\"]\n",
    "if s == l[0] :\n",
    "    print(\"Red Fort\")\n",
    "elif s == l[1] :\n",
    "    print(\"Taj Mahal\")\n",
    "elif s == l[2] :\n",
    "    print(\"Jal Mahal\")"
   ]
  },
  {
   "cell_type": "code",
   "execution_count": 1,
   "id": "06ee9076-0e30-4b94-9e6d-c3adb3ff134d",
   "metadata": {
    "collapsed": true,
    "jupyter": {
     "outputs_hidden": true
    },
    "tags": []
   },
   "outputs": [
    {
     "name": "stdin",
     "output_type": "stream",
     "text": [
      "Enter the number: 99\n"
     ]
    },
    {
     "name": "stdout",
     "output_type": "stream",
     "text": [
      "3\n"
     ]
    }
   ],
   "source": [
    "# Solution of Q.4 :-\n",
    "\n",
    "num = int(input(\"Enter the number:\"))\n",
    "i = 0\n",
    "while num >10 :\n",
    "    num = num/3\n",
    "    i += 1\n",
    "print(i)"
   ]
  },
  {
   "cell_type": "code",
   "execution_count": 18,
   "id": "3095acac-6945-449a-8611-614ad6ac0085",
   "metadata": {
    "collapsed": true,
    "jupyter": {
     "outputs_hidden": true
    },
    "tags": []
   },
   "outputs": [
    {
     "name": "stdout",
     "output_type": "stream",
     "text": [
      "12.5\n"
     ]
    }
   ],
   "source": [
    "# Solution of Q.5 :-\n",
    "\n",
    "\"\"\" While loop is used to run a block  of code untill a certain condoition is met. A while loop evaluates the condition,if the condition evaluates \n",
    "    to true , the code inside the loop is executed. Condition is evaluated again.The process continues untill the condition is false. When condition \n",
    "    evaluates to false, the loop stops. \"\"\"\n",
    "    \n",
    "# example \n",
    "\n",
    "l = 100\n",
    "while l > 20:\n",
    "    l = l / 2\n",
    "print(l)"
   ]
  },
  {
   "cell_type": "code",
   "execution_count": 23,
   "id": "ae4d9dd7-ccd8-4867-bb40-cbd81f14df7d",
   "metadata": {
    "collapsed": true,
    "jupyter": {
     "outputs_hidden": true
    },
    "tags": []
   },
   "outputs": [
    {
     "name": "stdin",
     "output_type": "stream",
     "text": [
      "Enter the number of rows for program 1: 10\n"
     ]
    },
    {
     "name": "stdout",
     "output_type": "stream",
     "text": [
      "*\n",
      "**\n",
      "***\n",
      "****\n",
      "*****\n",
      "******\n",
      "*******\n",
      "********\n",
      "*********\n",
      "**********\n"
     ]
    },
    {
     "name": "stdin",
     "output_type": "stream",
     "text": [
      "Enter the number of rows for program 2: 10\n",
      "Enter the number of columns for program 2: 10\n"
     ]
    },
    {
     "name": "stdout",
     "output_type": "stream",
     "text": [
      "**********\n",
      "*********\n",
      "********\n",
      "*******\n",
      "******\n",
      "*****\n",
      "****\n",
      "***\n",
      "**\n",
      "*\n"
     ]
    },
    {
     "name": "stdin",
     "output_type": "stream",
     "text": [
      "Enter the number of rows for program 3: 10\n",
      "Enter the number of columns for program 3:  10\n"
     ]
    },
    {
     "name": "stdout",
     "output_type": "stream",
     "text": [
      "***********\n",
      "***********\n",
      "***********\n",
      "***********\n",
      "***********\n",
      "***********\n",
      "***********\n",
      "***********\n",
      "***********\n",
      "***********\n"
     ]
    }
   ],
   "source": [
    "# Solution of Q.6 :- \n",
    "\n",
    "# 1st program\n",
    "\n",
    "r1 = int(input(\"Enter the number of rows for program 1:\"))\n",
    "i=1\n",
    "while i <= r1 :\n",
    "    j = 0\n",
    "    while j<= i-1:\n",
    "        print(\"*\", end =\"\")\n",
    "        j += 1\n",
    "    print() \n",
    "    i += 1\n",
    "\n",
    "# 2nd program\n",
    "\n",
    "r2 = int(input(\"Enter the number of rows for program 2:\"))\n",
    "c2 = int(input(\"Enter the number of columns for program 2:\"))\n",
    "i=1\n",
    "while i <= r2 :\n",
    "    j=0\n",
    "    while j <= c2 - i :\n",
    "        print(\"*\", end=\"\")\n",
    "        j += 1\n",
    "    print()\n",
    "    i += 1\n",
    "    \n",
    "# 3rd program\n",
    "\n",
    "r3 = int(input(\"Enter the number of rows for program 3:\"))\n",
    "c3 = int(input(\"Enter the number of columns for program 3: \"))\n",
    "i =1\n",
    "while i <= r3 :\n",
    "    j = 0\n",
    "    while j <= c3 :\n",
    "        print(\"*\", end = \"\")\n",
    "        j += 1\n",
    "    print()\n",
    "    i += 1"
   ]
  },
  {
   "cell_type": "code",
   "execution_count": 29,
   "id": "dbb52cc0-bb95-42db-88ce-94a1a0e8697a",
   "metadata": {
    "collapsed": true,
    "jupyter": {
     "outputs_hidden": true
    },
    "tags": []
   },
   "outputs": [
    {
     "name": "stdout",
     "output_type": "stream",
     "text": [
      "10\n",
      "9\n",
      "8\n",
      "7\n",
      "6\n",
      "5\n",
      "4\n",
      "3\n",
      "2\n",
      "1\n"
     ]
    }
   ],
   "source": [
    "# Solution of Q.7 :-\n",
    "\n",
    "n = 1 \n",
    "i =10\n",
    "while i >= n :\n",
    "    print(i)\n",
    "    i -= 1\n",
    " \n"
   ]
  }
 ],
 "metadata": {
  "kernelspec": {
   "display_name": "Python 3 (ipykernel)",
   "language": "python",
   "name": "python3"
  },
  "language_info": {
   "codemirror_mode": {
    "name": "ipython",
    "version": 3
   },
   "file_extension": ".py",
   "mimetype": "text/x-python",
   "name": "python",
   "nbconvert_exporter": "python",
   "pygments_lexer": "ipython3",
   "version": "3.10.6"
  }
 },
 "nbformat": 4,
 "nbformat_minor": 5
}
