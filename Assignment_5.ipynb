{
 "cells": [
  {
   "cell_type": "markdown",
   "id": "b1a07b33-5953-455b-8c9f-80fc1754bfc9",
   "metadata": {},
   "source": [
    "Solution dated : 04 / 02 / 2023"
   ]
  },
  {
   "cell_type": "code",
   "execution_count": 19,
   "id": "fcd5959a-22de-4624-8759-6acf75df2110",
   "metadata": {
    "collapsed": true,
    "jupyter": {
     "outputs_hidden": true
    },
    "tags": []
   },
   "outputs": [
    {
     "name": "stdout",
     "output_type": "stream",
     "text": [
      "[('Jack Kaillis', 25534), ('Ricky Pointing', 27483), ('Sachin Tendulkar', 34357), ('Virat Kohli', 24936)]\n"
     ]
    }
   ],
   "source": [
    "# Q.\n",
    "\n",
    "# 1.sol :\n",
    "\n",
    "# Program to sort the list of tuples based on the intezer values \n",
    "\n",
    "l = [('Sachin Tendulkar',34357),('Ricky Pointing',27483),('Jack Kaillis',25534),('Virat Kohli',24936) ]\n",
    "a = lambda l : l.sort()\n",
    "a(l)\n",
    "print(l)"
   ]
  },
  {
   "cell_type": "code",
   "execution_count": 24,
   "id": "06e32116-cdf9-4d86-bff3-9b6fd31223d9",
   "metadata": {
    "collapsed": true,
    "jupyter": {
     "outputs_hidden": true
    },
    "tags": []
   },
   "outputs": [
    {
     "data": {
      "text/plain": [
       "[1, 4, 9, 16, 25, 36, 49, 64, 81, 100]"
      ]
     },
     "execution_count": 24,
     "metadata": {},
     "output_type": "execute_result"
    }
   ],
   "source": [
    "# 2.sol : \n",
    "# Program to find the squares of all the numbers in the list using lambda and map functions\n",
    "\n",
    "l = [1,2,3,4,5,6,7,8,9,10]\n",
    "list(map(lambda a : a** 2,l)) "
   ]
  },
  {
   "cell_type": "code",
   "execution_count": 26,
   "id": "ccc2dc17-ec53-4509-8f43-58bfba724891",
   "metadata": {
    "tags": []
   },
   "outputs": [
    {
     "data": {
      "text/plain": [
       "('1', '2', '3', '4', '5', '6', '7', '8', '9', '10')"
      ]
     },
     "execution_count": 26,
     "metadata": {},
     "output_type": "execute_result"
    }
   ],
   "source": [
    "# 3.sol:\n",
    "# Program to convert the given list of integers into a tuple of strings using map and lambda function\n",
    "l = [1,2,3,4,5,6,7,8,9,10]\n",
    "tuple(map(lambda x : str(x),l))"
   ]
  },
  {
   "cell_type": "code",
   "execution_count": 33,
   "id": "2ce7931f-f599-40fa-b1ac-ba403c055ed7",
   "metadata": {
    "collapsed": true,
    "jupyter": {
     "outputs_hidden": true
    },
    "tags": []
   },
   "outputs": [
    {
     "data": {
      "text/plain": [
       "15511210043330985984000000"
      ]
     },
     "execution_count": 33,
     "metadata": {},
     "output_type": "execute_result"
    }
   ],
   "source": [
    "# 4.sol:\n",
    "# Program to find the product of numbers in the list using reduce function\n",
    "l = list(range(1,26))\n",
    "from functools import reduce\n",
    "reduce(lambda x,y: x*y,l)"
   ]
  },
  {
   "cell_type": "code",
   "execution_count": 3,
   "id": "3627adff-5d60-4086-a210-c511d19b3436",
   "metadata": {},
   "outputs": [
    {
     "name": "stdout",
     "output_type": "stream",
     "text": [
      "[6, 60, 90, 120]\n"
     ]
    }
   ],
   "source": [
    "# 5.sol :\n",
    "\n",
    "# Program to filter the numbers in the list which are  divisible by 2 and 3 using filter function\n",
    "\n",
    "l = [2,3,6,9,27,60,90,120,55,46]\n",
    "l2 = []\n",
    "def func1(a) :\n",
    "    if a % 2 == 0 and a % 3 == 0 :\n",
    "        return True\n",
    "    else :\n",
    "        return False\n",
    "l1 = filter(func1,l)\n",
    "for i in l1:\n",
    "    l2.append(i)\n",
    "print(l2)    "
   ]
  },
  {
   "cell_type": "code",
   "execution_count": 33,
   "id": "ebfc039c-65f4-405b-994e-c0857db73e88",
   "metadata": {},
   "outputs": [
    {
     "name": "stdout",
     "output_type": "stream",
     "text": [
      "[False, 'aba', 'radar', 'level']\n"
     ]
    }
   ],
   "source": [
    "# 6.sol :\n",
    "\n",
    "# Program to find palindromes in the given list of strings using lambda function\n",
    "\n",
    "l = [\"python\",\"aba\",\"radar\",\"level\"]\n",
    "l1 = []\n",
    "x =list(map(lambda i : True if i[::-1] == i else False ,l))\n",
    "for j in x :\n",
    "    l1.append(j)\n",
    "print(l1)    "
   ]
  },
  {
   "cell_type": "code",
   "execution_count": null,
   "id": "fdd35683-c6e5-437e-91d1-9d06b568ab28",
   "metadata": {},
   "outputs": [],
   "source": []
  }
 ],
 "metadata": {
  "kernelspec": {
   "display_name": "Python 3 (ipykernel)",
   "language": "python",
   "name": "python3"
  },
  "language_info": {
   "codemirror_mode": {
    "name": "ipython",
    "version": 3
   },
   "file_extension": ".py",
   "mimetype": "text/x-python",
   "name": "python",
   "nbconvert_exporter": "python",
   "pygments_lexer": "ipython3",
   "version": "3.10.6"
  }
 },
 "nbformat": 4,
 "nbformat_minor": 5
}
