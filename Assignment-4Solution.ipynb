{
 "cells": [
  {
   "cell_type": "markdown",
   "id": "f8f9ec0d-082c-48a4-b240-4b36d9fafea2",
   "metadata": {
    "tags": []
   },
   "source": [
    "# Solution of Asssignment dated : 03/02/2023"
   ]
  },
  {
   "cell_type": "code",
   "execution_count": 2,
   "id": "2bb82755-9ec2-4313-bad9-e57068b3f7ee",
   "metadata": {},
   "outputs": [],
   "source": [
    "# Q.\n",
    "\n",
    "# 1.sol:\n",
    "\n",
    "# def keyword is used to create a function\n",
    "\n",
    "# Program to create a function which returns a list of odd numbers in the range of 1 to 25 \n",
    "\n",
    "l = list(range(1,26))\n",
    "def fun1(l) :\n",
    "    l1 = []\n",
    "    for i in l :\n",
    "        if i % 2 != 0 :\n",
    "            l1.append(i)\n",
    "    return (l1)       \n"
   ]
  },
  {
   "cell_type": "code",
   "execution_count": 3,
   "id": "9ba5bd97-ba82-4d14-9662-50040c3be1e4",
   "metadata": {
    "tags": []
   },
   "outputs": [
    {
     "data": {
      "text/plain": [
       "[1, 3, 5, 7, 9, 11, 13, 15, 17, 19, 21, 23, 25]"
      ]
     },
     "execution_count": 3,
     "metadata": {},
     "output_type": "execute_result"
    }
   ],
   "source": [
    "fun1(l)\n"
   ]
  },
  {
   "cell_type": "code",
   "execution_count": 33,
   "id": "5fa19819-72c9-44ac-94a9-7163eeae6a4e",
   "metadata": {},
   "outputs": [],
   "source": [
    "\n",
    "\n",
    "# 2.sol :\n",
    "\n",
    "# use of args in function\n",
    "\n",
    "\"\"\" The special syntax *args in function definations in python is used to pass a variable number of arguments to a function.\n",
    "    It is used to pass a non-key worded, variable-length argument list. \"\"\"\n",
    "\n",
    "\n",
    "# use of kwargs in function \n",
    "    \n",
    "\"\"\" The special syntax **kwargs in function definations in python is used to pass a keyworded, variable-length argument list. \n",
    "    We use the name kwargs with the double star. The reason is that the double star allows us to pass through keyword arguments \n",
    "    (and any number of them). \"\"\"\n",
    "\n",
    "# examples \n",
    "\n",
    "def students_names(*args) : ### function to demonstrate use of args\n",
    "    return(args)\n",
    "\n",
    "def marks(**kwargs) :\n",
    "    return(kwargs)"
   ]
  },
  {
   "cell_type": "code",
   "execution_count": 21,
   "id": "2c276afe-6f64-47f8-806a-97e675972e6e",
   "metadata": {
    "tags": []
   },
   "outputs": [],
   "source": [
    "class_10 =[\"sohan\",\"mohan\",\"rajesh\",\"roshan\",\"gopal\",\"sourav\"]"
   ]
  },
  {
   "cell_type": "code",
   "execution_count": 31,
   "id": "1c451f48-db0c-4c4d-a123-5133d2869895",
   "metadata": {
    "tags": []
   },
   "outputs": [
    {
     "data": {
      "text/plain": [
       "('sohan', 'mohan', 'rajesh', 'roshan', 'gopal', 'sourav')"
      ]
     },
     "execution_count": 31,
     "metadata": {},
     "output_type": "execute_result"
    }
   ],
   "source": [
    "students_names(*class_10)"
   ]
  },
  {
   "cell_type": "code",
   "execution_count": 34,
   "id": "2371b00b-d339-43c3-be54-4e69ab429124",
   "metadata": {
    "tags": []
   },
   "outputs": [
    {
     "data": {
      "text/plain": [
       "{'sohan': 73, 'mohan': 67, 'rajesh': 90, 'gopal': 89, 'sourav': 99}"
      ]
     },
     "execution_count": 34,
     "metadata": {},
     "output_type": "execute_result"
    }
   ],
   "source": [
    "marks(sohan=73,mohan=67,rajesh=90,gopal=89,sourav=99)"
   ]
  },
  {
   "cell_type": "code",
   "execution_count": 3,
   "id": "17f7d899-2195-4418-8f46-38ec61866938",
   "metadata": {
    "collapsed": true,
    "jupyter": {
     "outputs_hidden": true
    },
    "tags": []
   },
   "outputs": [
    {
     "name": "stdout",
     "output_type": "stream",
     "text": [
      "2\n",
      "4\n",
      "6\n",
      "8\n",
      "10\n"
     ]
    }
   ],
   "source": [
    "\n",
    "# 3.sol:\n",
    "\n",
    "\"\"\" Iterator in Python is an object that is used to iterate over iterable objects like lists, tuples, dicts, and sets. \n",
    "    The iterator object is initialized using the iter() method. It uses the next() method for iteration.\"\"\"\n",
    "\n",
    "# example :\n",
    "list1 = [2,4,6,8,10,12,14,16,18,20]\n",
    "next_number = iter(list1)\n",
    "print(next(next_number))\n",
    "print(next(next_number))\n",
    "print(next(next_number))\n",
    "print(next(next_number))\n",
    "print(next(next_number))"
   ]
  },
  {
   "cell_type": "code",
   "execution_count": 17,
   "id": "a57d8690-ac31-4f10-85ad-6335b20ad5b9",
   "metadata": {},
   "outputs": [],
   "source": [
    "\n",
    "# 4.sol:\n",
    "\n",
    "# generator function :\n",
    "\n",
    "\"\"\" A generator-function is defined like a normal function, but whenever it needs to generate a value, it does so with the yield keyword rather than \n",
    "    return. If the body of a def contains yield, the function automatically becomes a generator function. \"\"\"\n",
    "\n",
    "# use of yield keyword :\n",
    "\n",
    "\"\"\" The yield statement suspends a function’s execution and sends a value back to the caller, but retains enough state to enable the function to\n",
    "     resume where it left off. When the function resumes, it continues execution immediately after the last yield run. This allows its code to \n",
    "     produce a series of values over time, rather than computing them at once and sending them back like a list. \"\"\"\n",
    "    \n",
    "# example :\n",
    "\n",
    "def func_1():\n",
    "    yield \"gopal\"\n",
    "    yield \"kumar\"\n",
    "    yield \"gorai\"\n",
    "    "
   ]
  },
  {
   "cell_type": "code",
   "execution_count": 18,
   "id": "32affe4f-df55-4adc-94db-ea327cffdd6a",
   "metadata": {
    "jupyter": {
     "source_hidden": true
    },
    "tags": []
   },
   "outputs": [],
   "source": [
    "x = func_1()"
   ]
  },
  {
   "cell_type": "code",
   "execution_count": 19,
   "id": "b66e67c9-18fb-4ca1-b724-ae36964187d2",
   "metadata": {
    "collapsed": true,
    "jupyter": {
     "outputs_hidden": true,
     "source_hidden": true
    },
    "tags": []
   },
   "outputs": [
    {
     "name": "stdout",
     "output_type": "stream",
     "text": [
      "gopal\n"
     ]
    }
   ],
   "source": [
    "print(next(x))"
   ]
  },
  {
   "cell_type": "code",
   "execution_count": 20,
   "id": "c7a8b437-a72f-42c6-b978-9d2d36b84e52",
   "metadata": {
    "collapsed": true,
    "jupyter": {
     "outputs_hidden": true,
     "source_hidden": true
    },
    "tags": []
   },
   "outputs": [
    {
     "name": "stdout",
     "output_type": "stream",
     "text": [
      "kumar\n"
     ]
    }
   ],
   "source": [
    "print(next(x))"
   ]
  },
  {
   "cell_type": "code",
   "execution_count": 21,
   "id": "45a463f5-6742-4f94-8efa-838d9f339cbd",
   "metadata": {
    "collapsed": true,
    "jupyter": {
     "outputs_hidden": true,
     "source_hidden": true
    },
    "tags": []
   },
   "outputs": [
    {
     "name": "stdout",
     "output_type": "stream",
     "text": [
      "gorai\n"
     ]
    }
   ],
   "source": [
    "print(next(x))"
   ]
  },
  {
   "cell_type": "code",
   "execution_count": 3,
   "id": "d66f8d00-6b4a-436f-b086-0b07e42c24bc",
   "metadata": {
    "collapsed": true,
    "jupyter": {
     "outputs_hidden": true
    },
    "tags": []
   },
   "outputs": [
    {
     "name": "stdout",
     "output_type": "stream",
     "text": [
      "2\n",
      "3\n",
      "5\n",
      "7\n",
      "11\n",
      "13\n",
      "17\n",
      "19\n",
      "23\n",
      "29\n",
      "31\n",
      "37\n",
      "41\n",
      "43\n",
      "47\n",
      "53\n",
      "59\n",
      "61\n",
      "67\n",
      "71\n"
     ]
    }
   ],
   "source": [
    "\n",
    "# 5.sol :\n",
    "\n",
    "## generator function for first prime numbers < 1000\n",
    "\n",
    "def func_2(n) :\n",
    "    if n > 1 :\n",
    "        for i in range(2,n):\n",
    "            if (n % i)  == 0  :\n",
    "                return False\n",
    "                break\n",
    "            \n",
    "        else :\n",
    "            return True\n",
    "            \n",
    "    elif n<=1 :\n",
    "        return False\n",
    "            \n",
    "def func_3():\n",
    "    n = 1\n",
    "    while True :\n",
    "        n += 1\n",
    "        if func_2(n) :\n",
    "            yield n\n",
    "        if n > 1000:\n",
    "            break\n",
    "p = func_3()\n",
    "count = 1\n",
    "for i in func_3() :\n",
    "    \n",
    "    print(next(p))\n",
    "    count += 1\n",
    "    if count > 20 :\n",
    "        break\n"
   ]
  },
  {
   "cell_type": "code",
   "execution_count": 6,
   "id": "779de935-849e-4b50-9116-2926b3d197ad",
   "metadata": {
    "collapsed": true,
    "jupyter": {
     "outputs_hidden": true
    },
    "tags": []
   },
   "outputs": [
    {
     "name": "stdout",
     "output_type": "stream",
     "text": [
      "0 1 1 2 3 5 8 13 21 34 55 "
     ]
    }
   ],
   "source": [
    "# 6.sol:\n",
    "\n",
    "# Program to find first 10 fibonacci numbers using a while loop \n",
    "\n",
    "n = 10\n",
    "i = 0\n",
    "a , b, c = 0 , 1, 0\n",
    "while i <= n:\n",
    "    c = a + b\n",
    "    b = a\n",
    "    a = c\n",
    "    print(b,end = \" \")\n",
    "    i += 1\n",
    "    \n",
    "    \n",
    "     \n",
    "    "
   ]
  },
  {
   "cell_type": "code",
   "execution_count": 9,
   "id": "d1dd32ce-e53a-4ea8-b0ca-46c800798023",
   "metadata": {},
   "outputs": [
    {
     "data": {
      "text/plain": [
       "['p', 'w', 's', 'k', 'i', 'l', 'l', 's']"
      ]
     },
     "execution_count": 9,
     "metadata": {},
     "output_type": "execute_result"
    }
   ],
   "source": [
    "\n",
    "# 7.sol:\n",
    "\n",
    "# comprehension to iterate through given string\n",
    "s = \"pwskills\"\n",
    "[i for i in s]"
   ]
  },
  {
   "cell_type": "code",
   "execution_count": null,
   "id": "11c2b0aa-19d0-4d1b-bad5-687a64175555",
   "metadata": {
    "tags": []
   },
   "outputs": [],
   "source": [
    "\n",
    "# 8.sol:\n",
    "\n",
    "# Program to check whether a given number is palindrome or not using while loop\n",
    "\n",
    "n = input(\"Enter your number:\")\n",
    "i = n[0]\n",
    "count = 0\n",
    "while i <= n[::1] :\n",
    "    if i == n[-1-count] :\n",
    "        print(\"The number is a palindrome\")\n",
    "        count += 1 \n",
    "        break\n",
    "    else :\n",
    "        print(\"The number is not a palindrome\")\n",
    "        break\n",
    "    "
   ]
  },
  {
   "cell_type": "code",
   "execution_count": 14,
   "id": "ac206909-e8fb-444b-b2e8-a9955949b1d3",
   "metadata": {
    "collapsed": true,
    "jupyter": {
     "outputs_hidden": true
    },
    "tags": []
   },
   "outputs": [
    {
     "data": {
      "text/plain": [
       "[1,\n",
       " 3,\n",
       " 5,\n",
       " 7,\n",
       " 9,\n",
       " 11,\n",
       " 13,\n",
       " 15,\n",
       " 17,\n",
       " 19,\n",
       " 21,\n",
       " 23,\n",
       " 25,\n",
       " 27,\n",
       " 29,\n",
       " 31,\n",
       " 33,\n",
       " 35,\n",
       " 37,\n",
       " 39,\n",
       " 41,\n",
       " 43,\n",
       " 45,\n",
       " 47,\n",
       " 49,\n",
       " 51,\n",
       " 53,\n",
       " 55,\n",
       " 57,\n",
       " 59,\n",
       " 61,\n",
       " 63,\n",
       " 65,\n",
       " 67,\n",
       " 69,\n",
       " 71,\n",
       " 73,\n",
       " 75,\n",
       " 77,\n",
       " 79,\n",
       " 81,\n",
       " 83,\n",
       " 85,\n",
       " 87,\n",
       " 89,\n",
       " 91,\n",
       " 93,\n",
       " 95,\n",
       " 97,\n",
       " 99]"
      ]
     },
     "execution_count": 14,
     "metadata": {},
     "output_type": "execute_result"
    }
   ],
   "source": [
    "\n",
    "# 9.sol :\n",
    "\n",
    "n = range(1,101)\n",
    "[i for i in n if i % 2 != 0 ]"
   ]
  }
 ],
 "metadata": {
  "kernelspec": {
   "display_name": "Python 3 (ipykernel)",
   "language": "python",
   "name": "python3"
  },
  "language_info": {
   "codemirror_mode": {
    "name": "ipython",
    "version": 3
   },
   "file_extension": ".py",
   "mimetype": "text/x-python",
   "name": "python",
   "nbconvert_exporter": "python",
   "pygments_lexer": "ipython3",
   "version": "3.10.6"
  }
 },
 "nbformat": 4,
 "nbformat_minor": 5
}
