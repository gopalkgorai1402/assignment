{
 "cells": [
  {
   "cell_type": "markdown",
   "id": "67008d52-f79d-48a9-a465-645681693664",
   "metadata": {
    "tags": []
   },
   "source": [
    "# Solution of assignment-1 dated : 29-01-2023"
   ]
  },
  {
   "cell_type": "code",
   "execution_count": 2,
   "id": "da0e739f-449a-4859-9b92-a6dc7176b44e",
   "metadata": {},
   "outputs": [],
   "source": [
    "# Q.\n",
    "\n",
    "\"\"\" \n",
    "1.ans - Guido Van Rossum\n",
    "\n",
    "2.ans - Object-oriented, structured and functional programs\n",
    "\n",
    "3.ans - Yes\n",
    "\n",
    "4. ans - .py\n",
    "\n",
    "5.ans - Interpreted\n",
    "\n",
    "6.ans - A module, a function and a class defination\n",
    "\n",
    "7.ans - # \n",
    "\n",
    "8.ans - python --version\n",
    "\n",
    "9.ans - lambda\n",
    "\n",
    "10.ans - pip stands for preferred installer program\n",
    "\n",
    "11.ans - len(), index(), input(), upper(), append(), extend(), reverse()\n",
    "\n",
    "12.ans - An identifier can have maximum length of 79.\n",
    "\n",
    "13.ans - Benefits of python : i.) Python is edxtensible ii.) Python libraries iii.)Python is easy to learn.\n",
    "\n",
    "14.ans - Memory management in python invloves a private heap containing all python objects and data structurs.\n",
    "        The management of this private heap is ensured internally by the python memory manager.\n",
    "\n",
    "15.ans - In the section entitled User Variables, double click on the entry that says path.Another window will pop up showing a lisyt of paths. \n",
    "Click the New button and paste the path to your Python executable there. Once that's inserted , select your newly added path and click the Move up button untill it's at the top.\n",
    "\n",
    "16.ans - Yes\n",
    "            "
   ]
  },
  {
   "cell_type": "code",
   "execution_count": null,
   "id": "7d1244fd-4044-4e84-aaa3-00b66aeef163",
   "metadata": {},
   "outputs": [],
   "source": []
  }
 ],
 "metadata": {
  "kernelspec": {
   "display_name": "Python 3 (ipykernel)",
   "language": "python",
   "name": "python3"
  },
  "language_info": {
   "codemirror_mode": {
    "name": "ipython",
    "version": 3
   },
   "file_extension": ".py",
   "mimetype": "text/x-python",
   "name": "python",
   "nbconvert_exporter": "python",
   "pygments_lexer": "ipython3",
   "version": "3.10.6"
  }
 },
 "nbformat": 4,
 "nbformat_minor": 5
}
